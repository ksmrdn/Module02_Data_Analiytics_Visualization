{
 "cells": [
  {
   "cell_type": "code",
   "execution_count": 1,
   "metadata": {},
   "outputs": [],
   "source": [
    "import pymongo\n",
    "import pandas as pd"
   ]
  },
  {
   "cell_type": "code",
   "execution_count": 2,
   "metadata": {},
   "outputs": [
    {
     "data": {
      "text/plain": [
       "['Kampus',\n",
       " 'admin',\n",
       " 'config',\n",
       " 'jule',\n",
       " 'local',\n",
       " 'pymongodb',\n",
       " 'resto',\n",
       " 'tokoonline']"
      ]
     },
     "execution_count": 2,
     "metadata": {},
     "output_type": "execute_result"
    }
   ],
   "source": [
    "dburl = 'mongodb://localhost:27017'\n",
    "mymongo = pymongo.MongoClient(dburl)\n",
    "\n",
    "dbs = mymongo.list_database_names()\n",
    "dbs"
   ]
  },
  {
   "cell_type": "code",
   "execution_count": 3,
   "metadata": {},
   "outputs": [
    {
     "data": {
      "text/plain": [
       "[{'_id': ObjectId('5ddc8eede3603b0f157fbe5f'),\n",
       "  'nama': 'Andi',\n",
       "  'usia': 19.0,\n",
       "  'kota': 'Jakarta'},\n",
       " {'_id': ObjectId('5ddc8eede3603b0f157fbe60'),\n",
       "  'nama': 'Tralala',\n",
       "  'usia': 25.0,\n",
       "  'kota': 'Bandung'},\n",
       " {'_id': ObjectId('5ddc8eede3603b0f157fbe61'),\n",
       "  'nama': 'Caca',\n",
       "  'usia': 31.0,\n",
       "  'kota': 'Bandung'},\n",
       " {'_id': ObjectId('5ddc975350bb79d20cb45168'),\n",
       "  'nama': 'Tralala',\n",
       "  'usia': 23,\n",
       "  'kota': 'Surabaya'},\n",
       " {'_id': ObjectId('5ddc975350bb79d20cb45169'),\n",
       "  'nama': 'Tralala',\n",
       "  'usia': 26,\n",
       "  'kota': 'Nganjuk'},\n",
       " {'_id': ObjectId('5ddc9a01dce34b332f6267cb'),\n",
       "  'nama': 'Tralala',\n",
       "  'usia': 23,\n",
       "  'kota': 'Surabaya'},\n",
       " {'_id': ObjectId('5ddc9a01dce34b332f6267cc'),\n",
       "  'nama': 'Tralala',\n",
       "  'usia': 26,\n",
       "  'kota': 'Nganjuk'},\n",
       " {'_id': ObjectId('5ddc9b01c7ff8ae45ff7b88e'), 'nama': 'Cinta'},\n",
       " {'_id': ObjectId('5ddc9b0f751e2c2a150e80eb'), 'nama': 'Cinta'}]"
      ]
     },
     "execution_count": 3,
     "metadata": {},
     "output_type": "execute_result"
    }
   ],
   "source": [
    "mydb = mymongo['pymongodb']\n",
    "mycol = mydb['colmong']\n",
    "alldata = list(mycol.find())\n",
    "alldata"
   ]
  },
  {
   "cell_type": "code",
   "execution_count": 4,
   "metadata": {},
   "outputs": [
    {
     "data": {
      "text/html": [
       "<div>\n",
       "<style scoped>\n",
       "    .dataframe tbody tr th:only-of-type {\n",
       "        vertical-align: middle;\n",
       "    }\n",
       "\n",
       "    .dataframe tbody tr th {\n",
       "        vertical-align: top;\n",
       "    }\n",
       "\n",
       "    .dataframe thead th {\n",
       "        text-align: right;\n",
       "    }\n",
       "</style>\n",
       "<table border=\"1\" class=\"dataframe\">\n",
       "  <thead>\n",
       "    <tr style=\"text-align: right;\">\n",
       "      <th></th>\n",
       "      <th>_id</th>\n",
       "      <th>nama</th>\n",
       "      <th>usia</th>\n",
       "      <th>kota</th>\n",
       "    </tr>\n",
       "  </thead>\n",
       "  <tbody>\n",
       "    <tr>\n",
       "      <td>0</td>\n",
       "      <td>5ddc8eede3603b0f157fbe5f</td>\n",
       "      <td>Andi</td>\n",
       "      <td>19.0</td>\n",
       "      <td>Jakarta</td>\n",
       "    </tr>\n",
       "    <tr>\n",
       "      <td>1</td>\n",
       "      <td>5ddc8eede3603b0f157fbe60</td>\n",
       "      <td>Tralala</td>\n",
       "      <td>25.0</td>\n",
       "      <td>Bandung</td>\n",
       "    </tr>\n",
       "    <tr>\n",
       "      <td>2</td>\n",
       "      <td>5ddc8eede3603b0f157fbe61</td>\n",
       "      <td>Caca</td>\n",
       "      <td>31.0</td>\n",
       "      <td>Bandung</td>\n",
       "    </tr>\n",
       "    <tr>\n",
       "      <td>3</td>\n",
       "      <td>5ddc975350bb79d20cb45168</td>\n",
       "      <td>Tralala</td>\n",
       "      <td>23.0</td>\n",
       "      <td>Surabaya</td>\n",
       "    </tr>\n",
       "    <tr>\n",
       "      <td>4</td>\n",
       "      <td>5ddc975350bb79d20cb45169</td>\n",
       "      <td>Tralala</td>\n",
       "      <td>26.0</td>\n",
       "      <td>Nganjuk</td>\n",
       "    </tr>\n",
       "    <tr>\n",
       "      <td>5</td>\n",
       "      <td>5ddc9a01dce34b332f6267cb</td>\n",
       "      <td>Tralala</td>\n",
       "      <td>23.0</td>\n",
       "      <td>Surabaya</td>\n",
       "    </tr>\n",
       "    <tr>\n",
       "      <td>6</td>\n",
       "      <td>5ddc9a01dce34b332f6267cc</td>\n",
       "      <td>Tralala</td>\n",
       "      <td>26.0</td>\n",
       "      <td>Nganjuk</td>\n",
       "    </tr>\n",
       "    <tr>\n",
       "      <td>7</td>\n",
       "      <td>5ddc9b01c7ff8ae45ff7b88e</td>\n",
       "      <td>Cinta</td>\n",
       "      <td>NaN</td>\n",
       "      <td>NaN</td>\n",
       "    </tr>\n",
       "    <tr>\n",
       "      <td>8</td>\n",
       "      <td>5ddc9b0f751e2c2a150e80eb</td>\n",
       "      <td>Cinta</td>\n",
       "      <td>NaN</td>\n",
       "      <td>NaN</td>\n",
       "    </tr>\n",
       "  </tbody>\n",
       "</table>\n",
       "</div>"
      ],
      "text/plain": [
       "                        _id     nama  usia      kota\n",
       "0  5ddc8eede3603b0f157fbe5f     Andi  19.0   Jakarta\n",
       "1  5ddc8eede3603b0f157fbe60  Tralala  25.0   Bandung\n",
       "2  5ddc8eede3603b0f157fbe61     Caca  31.0   Bandung\n",
       "3  5ddc975350bb79d20cb45168  Tralala  23.0  Surabaya\n",
       "4  5ddc975350bb79d20cb45169  Tralala  26.0   Nganjuk\n",
       "5  5ddc9a01dce34b332f6267cb  Tralala  23.0  Surabaya\n",
       "6  5ddc9a01dce34b332f6267cc  Tralala  26.0   Nganjuk\n",
       "7  5ddc9b01c7ff8ae45ff7b88e    Cinta   NaN       NaN\n",
       "8  5ddc9b0f751e2c2a150e80eb    Cinta   NaN       NaN"
      ]
     },
     "execution_count": 4,
     "metadata": {},
     "output_type": "execute_result"
    }
   ],
   "source": [
    "df = pd.DataFrame(alldata)\n",
    "df"
   ]
  },
  {
   "cell_type": "code",
   "execution_count": null,
   "metadata": {},
   "outputs": [],
   "source": []
  },
  {
   "cell_type": "code",
   "execution_count": null,
   "metadata": {},
   "outputs": [],
   "source": []
  }
 ],
 "metadata": {
  "kernelspec": {
   "display_name": "Python 3",
   "language": "python",
   "name": "python3"
  },
  "language_info": {
   "codemirror_mode": {
    "name": "ipython",
    "version": 3
   },
   "file_extension": ".py",
   "mimetype": "text/x-python",
   "name": "python",
   "nbconvert_exporter": "python",
   "pygments_lexer": "ipython3",
   "version": "3.7.4"
  }
 },
 "nbformat": 4,
 "nbformat_minor": 4
}
