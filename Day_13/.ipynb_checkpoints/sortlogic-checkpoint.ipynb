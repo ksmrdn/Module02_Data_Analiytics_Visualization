{
 "cells": [
  {
   "cell_type": "code",
   "execution_count": 1,
   "metadata": {},
   "outputs": [
    {
     "name": "stdout",
     "output_type": "stream",
     "text": [
      "[1, 2, 3, 4, 5, 6, 7, 10, 80]\n"
     ]
    }
   ],
   "source": [
    "x = [3,4,5,6,7,1,2,10,80]\n",
    "\n",
    "def urut(x):\n",
    "    listUrut = []\n",
    "    minX = x[0]\n",
    "    i = 0\n",
    "    while len(x) > 0:\n",
    "            if x[i] <= minX:\n",
    "                minX = x[i]\n",
    "            i += 1\n",
    "            if i == len(x):\n",
    "                listUrut.append(minX)\n",
    "                x.remove(minX)\n",
    "                if x:\n",
    "                    minX = x[0]\n",
    "                i = 0\n",
    "    print(listUrut)\n",
    "urut(x)"
   ]
  },
  {
   "cell_type": "code",
   "execution_count": null,
   "metadata": {},
   "outputs": [],
   "source": []
  }
 ],
 "metadata": {
  "kernelspec": {
   "display_name": "Python 3",
   "language": "python",
   "name": "python3"
  },
  "language_info": {
   "codemirror_mode": {
    "name": "ipython",
    "version": 3
   },
   "file_extension": ".py",
   "mimetype": "text/x-python",
   "name": "python",
   "nbconvert_exporter": "python",
   "pygments_lexer": "ipython3",
   "version": "3.7.4"
  }
 },
 "nbformat": 4,
 "nbformat_minor": 4
}
