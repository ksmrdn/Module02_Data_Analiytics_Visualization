{
 "cells": [
  {
   "cell_type": "code",
   "execution_count": 13,
   "metadata": {},
   "outputs": [],
   "source": [
    "import mysql.connector\n",
    "import pandas as pd"
   ]
  },
  {
   "cell_type": "code",
   "execution_count": 14,
   "metadata": {},
   "outputs": [],
   "source": [
    "myDB = mysql.connector.connect(\n",
    "    host = \"localhost\",\n",
    "    port = 3306,\n",
    "    user = 'ksmrdn',\n",
    "    passwd = '1234567',\n",
    "    database = 'warehouse_rk')"
   ]
  },
  {
   "cell_type": "code",
   "execution_count": 15,
   "metadata": {},
   "outputs": [
    {
     "data": {
      "text/plain": [
       "<mysql.connector.connection_cext.CMySQLConnection at 0x1d180983708>"
      ]
     },
     "execution_count": 15,
     "metadata": {},
     "output_type": "execute_result"
    }
   ],
   "source": [
    "myDB"
   ]
  },
  {
   "cell_type": "code",
   "execution_count": 16,
   "metadata": {},
   "outputs": [
    {
     "data": {
      "text/plain": [
       "<mysql.connector.cursor_cext.CMySQLCursor at 0x1d180984408>"
      ]
     },
     "execution_count": 16,
     "metadata": {},
     "output_type": "execute_result"
    }
   ],
   "source": [
    "csr = myDB.cursor()\n",
    "csr"
   ]
  },
  {
   "cell_type": "code",
   "execution_count": 24,
   "metadata": {},
   "outputs": [
    {
     "data": {
      "text/plain": [
       "[(1,\n",
       "  {'pria'},\n",
       "  'Faishal Zafran',\n",
       "  2500000,\n",
       "  None,\n",
       "  datetime.datetime(2019, 11, 21, 9, 35, 7),\n",
       "  None),\n",
       " (2,\n",
       "  {'wanita'},\n",
       "  'Salma Fina',\n",
       "  2500000,\n",
       "  None,\n",
       "  datetime.datetime(2019, 11, 21, 9, 38, 42),\n",
       "  None),\n",
       " (3,\n",
       "  {'pria'},\n",
       "  'Sujiwo Tejo',\n",
       "  8500000,\n",
       "  None,\n",
       "  datetime.datetime(2019, 11, 21, 9, 38, 42),\n",
       "  None),\n",
       " (4,\n",
       "  {'wanita'},\n",
       "  'Bonita Bonek',\n",
       "  4000000,\n",
       "  None,\n",
       "  datetime.datetime(2019, 11, 21, 9, 51, 24),\n",
       "  None),\n",
       " (9,\n",
       "  None,\n",
       "  'Fiersa Besari',\n",
       "  4500000,\n",
       "  'JL. Pinus Berduri 3 No.15',\n",
       "  datetime.datetime(2019, 11, 21, 12, 33, 32),\n",
       "  None),\n",
       " (11,\n",
       "  None,\n",
       "  'Vincentius Jefri',\n",
       "  10000000,\n",
       "  'JL. Ende Flore 5',\n",
       "  datetime.datetime(2019, 11, 21, 12, 34, 16),\n",
       "  None),\n",
       " (13,\n",
       "  None,\n",
       "  'Fiersa Besari',\n",
       "  4500000,\n",
       "  'JL. Pinus Berduri 3 No.15',\n",
       "  datetime.datetime(2019, 11, 21, 22, 1, 38),\n",
       "  None),\n",
       " (14,\n",
       "  None,\n",
       "  'Flora Bowie',\n",
       "  2500000,\n",
       "  None,\n",
       "  datetime.datetime(2019, 11, 22, 9, 28, 13),\n",
       "  None),\n",
       " (15,\n",
       "  None,\n",
       "  'Flora Bowie',\n",
       "  2500000,\n",
       "  None,\n",
       "  datetime.datetime(2019, 11, 22, 9, 28, 30),\n",
       "  None)]"
      ]
     },
     "execution_count": 24,
     "metadata": {},
     "output_type": "execute_result"
    }
   ],
   "source": [
    "csr.execute('select * from  karyawan')\n",
    "x = csr.fetchall()\n",
    "listX = []\n",
    "for data in x:\n",
    "    listX.append(data)\n",
    "listX"
   ]
  },
  {
   "cell_type": "code",
   "execution_count": 28,
   "metadata": {},
   "outputs": [
    {
     "data": {
      "text/html": [
       "<div>\n",
       "<style scoped>\n",
       "    .dataframe tbody tr th:only-of-type {\n",
       "        vertical-align: middle;\n",
       "    }\n",
       "\n",
       "    .dataframe tbody tr th {\n",
       "        vertical-align: top;\n",
       "    }\n",
       "\n",
       "    .dataframe thead th {\n",
       "        text-align: right;\n",
       "    }\n",
       "</style>\n",
       "<table border=\"1\" class=\"dataframe\">\n",
       "  <thead>\n",
       "    <tr style=\"text-align: right;\">\n",
       "      <th></th>\n",
       "      <th>No</th>\n",
       "      <th>Jenis Kelamin</th>\n",
       "      <th>Nama</th>\n",
       "      <th>Gaji</th>\n",
       "      <th>Alamat</th>\n",
       "      <th>Date Time</th>\n",
       "      <th>Hobi</th>\n",
       "    </tr>\n",
       "  </thead>\n",
       "  <tbody>\n",
       "    <tr>\n",
       "      <td>0</td>\n",
       "      <td>1</td>\n",
       "      <td>{pria}</td>\n",
       "      <td>Faishal Zafran</td>\n",
       "      <td>2500000</td>\n",
       "      <td>None</td>\n",
       "      <td>2019-11-21 09:35:07</td>\n",
       "      <td>None</td>\n",
       "    </tr>\n",
       "    <tr>\n",
       "      <td>1</td>\n",
       "      <td>2</td>\n",
       "      <td>{wanita}</td>\n",
       "      <td>Salma Fina</td>\n",
       "      <td>2500000</td>\n",
       "      <td>None</td>\n",
       "      <td>2019-11-21 09:38:42</td>\n",
       "      <td>None</td>\n",
       "    </tr>\n",
       "    <tr>\n",
       "      <td>2</td>\n",
       "      <td>3</td>\n",
       "      <td>{pria}</td>\n",
       "      <td>Sujiwo Tejo</td>\n",
       "      <td>8500000</td>\n",
       "      <td>None</td>\n",
       "      <td>2019-11-21 09:38:42</td>\n",
       "      <td>None</td>\n",
       "    </tr>\n",
       "    <tr>\n",
       "      <td>3</td>\n",
       "      <td>4</td>\n",
       "      <td>{wanita}</td>\n",
       "      <td>Bonita Bonek</td>\n",
       "      <td>4000000</td>\n",
       "      <td>None</td>\n",
       "      <td>2019-11-21 09:51:24</td>\n",
       "      <td>None</td>\n",
       "    </tr>\n",
       "    <tr>\n",
       "      <td>4</td>\n",
       "      <td>9</td>\n",
       "      <td>None</td>\n",
       "      <td>Fiersa Besari</td>\n",
       "      <td>4500000</td>\n",
       "      <td>JL. Pinus Berduri 3 No.15</td>\n",
       "      <td>2019-11-21 12:33:32</td>\n",
       "      <td>None</td>\n",
       "    </tr>\n",
       "    <tr>\n",
       "      <td>5</td>\n",
       "      <td>11</td>\n",
       "      <td>None</td>\n",
       "      <td>Vincentius Jefri</td>\n",
       "      <td>10000000</td>\n",
       "      <td>JL. Ende Flore 5</td>\n",
       "      <td>2019-11-21 12:34:16</td>\n",
       "      <td>None</td>\n",
       "    </tr>\n",
       "    <tr>\n",
       "      <td>6</td>\n",
       "      <td>13</td>\n",
       "      <td>None</td>\n",
       "      <td>Fiersa Besari</td>\n",
       "      <td>4500000</td>\n",
       "      <td>JL. Pinus Berduri 3 No.15</td>\n",
       "      <td>2019-11-21 22:01:38</td>\n",
       "      <td>None</td>\n",
       "    </tr>\n",
       "    <tr>\n",
       "      <td>7</td>\n",
       "      <td>14</td>\n",
       "      <td>None</td>\n",
       "      <td>Flora Bowie</td>\n",
       "      <td>2500000</td>\n",
       "      <td>None</td>\n",
       "      <td>2019-11-22 09:28:13</td>\n",
       "      <td>None</td>\n",
       "    </tr>\n",
       "    <tr>\n",
       "      <td>8</td>\n",
       "      <td>15</td>\n",
       "      <td>None</td>\n",
       "      <td>Flora Bowie</td>\n",
       "      <td>2500000</td>\n",
       "      <td>None</td>\n",
       "      <td>2019-11-22 09:28:30</td>\n",
       "      <td>None</td>\n",
       "    </tr>\n",
       "  </tbody>\n",
       "</table>\n",
       "</div>"
      ],
      "text/plain": [
       "   No Jenis Kelamin              Nama      Gaji                     Alamat  \\\n",
       "0   1        {pria}    Faishal Zafran   2500000                       None   \n",
       "1   2      {wanita}        Salma Fina   2500000                       None   \n",
       "2   3        {pria}       Sujiwo Tejo   8500000                       None   \n",
       "3   4      {wanita}      Bonita Bonek   4000000                       None   \n",
       "4   9          None     Fiersa Besari   4500000  JL. Pinus Berduri 3 No.15   \n",
       "5  11          None  Vincentius Jefri  10000000           JL. Ende Flore 5   \n",
       "6  13          None     Fiersa Besari   4500000  JL. Pinus Berduri 3 No.15   \n",
       "7  14          None       Flora Bowie   2500000                       None   \n",
       "8  15          None       Flora Bowie   2500000                       None   \n",
       "\n",
       "            Date Time  Hobi  \n",
       "0 2019-11-21 09:35:07  None  \n",
       "1 2019-11-21 09:38:42  None  \n",
       "2 2019-11-21 09:38:42  None  \n",
       "3 2019-11-21 09:51:24  None  \n",
       "4 2019-11-21 12:33:32  None  \n",
       "5 2019-11-21 12:34:16  None  \n",
       "6 2019-11-21 22:01:38  None  \n",
       "7 2019-11-22 09:28:13  None  \n",
       "8 2019-11-22 09:28:30  None  "
      ]
     },
     "execution_count": 28,
     "metadata": {},
     "output_type": "execute_result"
    }
   ],
   "source": [
    "dfData = pd.DataFrame(listX, columns=['No','Jenis Kelamin','Nama','Gaji','Alamat','Date Time','Hobi'])\n",
    "dfData"
   ]
  },
  {
   "cell_type": "code",
   "execution_count": null,
   "metadata": {},
   "outputs": [],
   "source": []
  }
 ],
 "metadata": {
  "kernelspec": {
   "display_name": "Python 3",
   "language": "python",
   "name": "python3"
  },
  "language_info": {
   "codemirror_mode": {
    "name": "ipython",
    "version": 3
   },
   "file_extension": ".py",
   "mimetype": "text/x-python",
   "name": "python",
   "nbconvert_exporter": "python",
   "pygments_lexer": "ipython3",
   "version": "3.7.4"
  }
 },
 "nbformat": 4,
 "nbformat_minor": 4
}
