{
 "cells": [
  {
   "cell_type": "code",
   "execution_count": 6,
   "metadata": {},
   "outputs": [],
   "source": [
    "import folium as fm"
   ]
  },
  {
   "cell_type": "code",
   "execution_count": 75,
   "metadata": {},
   "outputs": [],
   "source": [
    "maps = fm.Map(\n",
    "        location = [-6.1753924,106.8271528],\n",
    "        zoom_start = 15.5\n",
    ")\n",
    "fm.Marker(\n",
    "        location = [-6.1753924,106.827178],\n",
    "        tooltip = '<i>WELCOME TO JAKARTA ICON</i><br><img width=\"180px\" src=\"https://i.pinimg.com/236x/1e/5d/77/1e5d771b388a8cebd025c4babe427d37--indonesia-independence-day-jakarta.jpg\">',\n",
    "        popup = '<b>MONAS</b><br><small>Jakarta</small>',\n",
    "        icon = fm.Icon(color='pink',icon='tag')\n",
    "        ).add_to(maps)\n",
    "fm.Marker(\n",
    "        location = [-6.1767112,106.8301],\n",
    "        tooltip = '<i>WELCOME TO JAKARTA ICON</i><br>',\n",
    "        popup = '<b>GAMBIR</b><br><small>Jakarta Station</small><br><iframe width=\"250\" height=\"125\" src=\"https://www.youtube.com/embed/ViQwElY9cLM\" frameborder=\"0\" allow=\"accelerometer; autoplay; encrypted-media; gyroscope; picture-in-picture\" allowfullscreen></iframe>',\n",
    "        icon = fm.Icon(color='pink',icon='tag')\n",
    "        ).add_to(maps)\n",
    "maps\n",
    "maps.save('Jakarta Icon Profile.html')"
   ]
  },
  {
   "cell_type": "code",
   "execution_count": null,
   "metadata": {},
   "outputs": [],
   "source": []
  }
 ],
 "metadata": {
  "kernelspec": {
   "display_name": "Python 3",
   "language": "python",
   "name": "python3"
  },
  "language_info": {
   "codemirror_mode": {
    "name": "ipython",
    "version": 3
   },
   "file_extension": ".py",
   "mimetype": "text/x-python",
   "name": "python",
   "nbconvert_exporter": "python",
   "pygments_lexer": "ipython3",
   "version": "3.7.4"
  }
 },
 "nbformat": 4,
 "nbformat_minor": 4
}
