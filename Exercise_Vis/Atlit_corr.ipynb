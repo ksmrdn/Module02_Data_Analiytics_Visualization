{
 "cells": [
  {
   "cell_type": "code",
   "execution_count": 1,
   "metadata": {},
   "outputs": [],
   "source": [
    "import pandas as pd\n",
    "import  matplotlib.pyplot as plt\n",
    "import matplotlib.image as im\n",
    "import numpy as np"
   ]
  },
  {
   "cell_type": "code",
   "execution_count": 2,
   "metadata": {},
   "outputs": [
    {
     "data": {
      "text/html": [
       "<div>\n",
       "<style scoped>\n",
       "    .dataframe tbody tr th:only-of-type {\n",
       "        vertical-align: middle;\n",
       "    }\n",
       "\n",
       "    .dataframe tbody tr th {\n",
       "        vertical-align: top;\n",
       "    }\n",
       "\n",
       "    .dataframe thead th {\n",
       "        text-align: right;\n",
       "    }\n",
       "</style>\n",
       "<table border=\"1\" class=\"dataframe\">\n",
       "  <thead>\n",
       "    <tr style=\"text-align: right;\">\n",
       "      <th></th>\n",
       "      <th>BB</th>\n",
       "      <th>TB</th>\n",
       "      <th>FreqMakan</th>\n",
       "      <th>FreqLat</th>\n",
       "      <th>Medal</th>\n",
       "    </tr>\n",
       "  </thead>\n",
       "  <tbody>\n",
       "    <tr>\n",
       "      <td>BB</td>\n",
       "      <td>1.000000</td>\n",
       "      <td>0.557591</td>\n",
       "      <td>-0.209324</td>\n",
       "      <td>-0.791765</td>\n",
       "      <td>-0.529049</td>\n",
       "    </tr>\n",
       "    <tr>\n",
       "      <td>TB</td>\n",
       "      <td>0.557591</td>\n",
       "      <td>1.000000</td>\n",
       "      <td>0.581675</td>\n",
       "      <td>-0.931906</td>\n",
       "      <td>-0.662541</td>\n",
       "    </tr>\n",
       "    <tr>\n",
       "      <td>FreqMakan</td>\n",
       "      <td>-0.209324</td>\n",
       "      <td>0.581675</td>\n",
       "      <td>1.000000</td>\n",
       "      <td>-0.408635</td>\n",
       "      <td>-0.622543</td>\n",
       "    </tr>\n",
       "    <tr>\n",
       "      <td>FreqLat</td>\n",
       "      <td>-0.791765</td>\n",
       "      <td>-0.931906</td>\n",
       "      <td>-0.408635</td>\n",
       "      <td>1.000000</td>\n",
       "      <td>0.792790</td>\n",
       "    </tr>\n",
       "    <tr>\n",
       "      <td>Medal</td>\n",
       "      <td>-0.529049</td>\n",
       "      <td>-0.662541</td>\n",
       "      <td>-0.622543</td>\n",
       "      <td>0.792790</td>\n",
       "      <td>1.000000</td>\n",
       "    </tr>\n",
       "  </tbody>\n",
       "</table>\n",
       "</div>"
      ],
      "text/plain": [
       "                 BB        TB  FreqMakan   FreqLat     Medal\n",
       "BB         1.000000  0.557591  -0.209324 -0.791765 -0.529049\n",
       "TB         0.557591  1.000000   0.581675 -0.931906 -0.662541\n",
       "FreqMakan -0.209324  0.581675   1.000000 -0.408635 -0.622543\n",
       "FreqLat   -0.791765 -0.931906  -0.408635  1.000000  0.792790\n",
       "Medal     -0.529049 -0.662541  -0.622543  0.792790  1.000000"
      ]
     },
     "execution_count": 2,
     "metadata": {},
     "output_type": "execute_result"
    }
   ],
   "source": [
    "dfAtlit = pd.read_csv('Atlit.csv')\n",
    "dfCorr = dfAtlit.corr()\n",
    "# dfCorr.dtypes\n",
    "dfCorr"
   ]
  },
  {
   "cell_type": "code",
   "execution_count": 24,
   "metadata": {},
   "outputs": [
    {
     "data": {
      "image/png": "[encoded data removed]",
      "text/plain": [
       "<Figure size 432x288 with 2 Axes>"
      ]
     },
     "metadata": {
      "needs_background": "light"
     },
     "output_type": "display_data"
    }
   ],
   "source": [
    "# plt.figure(figsize=(35,10))\n",
    "plt.imshow(dfCorr)\n",
    "plt.colorbar()\n",
    "col = list(map(lambda x: x, dfCorr.columns.tolist()))\n",
    "plt.xticks(\n",
    "    np.arange(len(dfCorr.index)),\n",
    "    dfCorr.index.tolist(),\n",
    "    rotation=45)\n",
    "plt.yticks(\n",
    "    np.arange(len(dfCorr.index)),\n",
    "    dfCorr.index.tolist()\n",
    ")\n",
    "\n",
    "for x in range(len(col)):\n",
    "    for y in range(len(col)):\n",
    "        plt.text(y,x,round(dfCorr.iloc[x,y], 3),\n",
    "                color='white',\n",
    "                ha = 'center', va = 'center'\n",
    "                )\n",
    "\n",
    "plt.ylim(len(col)-0.5,-0.5)\n",
    "plt.show()"
   ]
  },
  {
   "cell_type": "code",
   "execution_count": null,
   "metadata": {},
   "outputs": [],
   "source": []
  },
  {
   "cell_type": "code",
   "execution_count": null,
   "metadata": {},
   "outputs": [],
   "source": []
  }
 ],
 "metadata": {
  "kernelspec": {
   "display_name": "Python 3",
   "language": "python",
   "name": "python3"
  },
  "language_info": {
   "codemirror_mode": {
    "name": "ipython",
    "version": 3
   },
   "file_extension": ".py",
   "mimetype": "text/x-python",
   "name": "python",
   "nbconvert_exporter": "python",
   "pygments_lexer": "ipython3",
   "version": "3.7.4"
  }
 },
 "nbformat": 4,
 "nbformat_minor": 4
}
