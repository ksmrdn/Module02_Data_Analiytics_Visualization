{
 "cells": [
  {
   "cell_type": "markdown",
   "metadata": {
    "jupyter": {
     "source_hidden": true
    }
   },
   "source": [
    "# SPLDV\n",
    "#### 3x+y = 15\n",
    "#### x+y =  7"
   ]
  },
  {
   "cell_type": "code",
   "execution_count": 7,
   "metadata": {
    "jupyter": {
     "source_hidden": true
    }
   },
   "outputs": [],
   "source": [
    "import numpy as np\n",
    "import matplotlib.pyplot as plt"
   ]
  },
  {
   "cell_type": "code",
   "execution_count": 8,
   "metadata": {},
   "outputs": [
    {
     "data": {
      "text/plain": [
       "array([4., 3.])"
      ]
     },
     "execution_count": 8,
     "metadata": {},
     "output_type": "execute_result"
    }
   ],
   "source": [
    " a = ([[3,1],\n",
    "      [1,1]])\n",
    " b = ([15,7])\n",
    " c = np.linalg.solve(a,b)\n",
    " c"
   ]
  },
  {
   "cell_type": "code",
   "execution_count": 9,
   "metadata": {},
   "outputs": [
    {
     "data": {
      "text/plain": [
       "(4.0, 3.0)"
      ]
     },
     "execution_count": 9,
     "metadata": {},
     "output_type": "execute_result"
    }
   ],
   "source": [
    "cX = round(c[0])\n",
    "cY = round(c[1])\n",
    "cX, cY"
   ]
  },
  {
   "cell_type": "code",
   "execution_count": 30,
   "metadata": {},
   "outputs": [
    {
     "data": {
      "image/png": "[encoded data removed]",
      "text/plain": [
       "<Figure size 432x288 with 1 Axes>"
      ]
     },
     "metadata": {
      "needs_background": "light"
     },
     "output_type": "display_data"
    }
   ],
   "source": [
    "#1. 3x + y =15\n",
    "#Cari titik potong sumbu x => y = 0 => 3x = 15\n",
    "y1 = 0\n",
    "x1 = np.linalg.solve([[3]],[15])[0]\n",
    "#Cari titik potong sumbu y => x = 0 => y = 15\n",
    "x2 = 0\n",
    "y2 = np.linalg.solve([[1]],[15])[0]\n",
    "\n",
    "#2. x + y =7\n",
    "#Cari titik potong sumbu x => y = 0 => x = 7\n",
    "y3 = 0\n",
    "x3 = np.linalg.solve([[1]],[7])[0]\n",
    "#Cari titik potong sumbu y => x = 0 => y = 7\n",
    "x4 = 0\n",
    "y4 = x3\n",
    "plt.plot([x1,y1],[x2,y2])\n",
    "plt.plot([x3,y3],[x4,y4])\n",
    "plt.plot(cX, cY, 'yo')\n",
    "\n",
    "plt.legend(['Eq 1', 'Eq 2', 'cross point'])\n",
    "plt.grid('True')"
   ]
  },
  {
   "cell_type": "code",
   "execution_count": null,
   "metadata": {},
   "outputs": [],
   "source": []
  }
 ],
 "metadata": {
  "kernelspec": {
   "display_name": "Python 3",
   "language": "python",
   "name": "python3"
  },
  "language_info": {
   "codemirror_mode": {
    "name": "ipython",
    "version": 3
   },
   "file_extension": ".py",
   "mimetype": "text/x-python",
   "name": "python",
   "nbconvert_exporter": "python",
   "pygments_lexer": "ipython3",
   "version": "3.7.4"
  }
 },
 "nbformat": 4,
 "nbformat_minor": 4
}
