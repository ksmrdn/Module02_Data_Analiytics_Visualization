{
 "cells": [
  {
   "cell_type": "code",
   "execution_count": 8,
   "metadata": {},
   "outputs": [],
   "source": [
    "import pandas as pd"
   ]
  },
  {
   "cell_type": "code",
   "execution_count": 9,
   "metadata": {},
   "outputs": [
    {
     "data": {
      "text/plain": [
       "[['12/05/1996', 'ILHAM PRASETYO', '23 TAHUN', 'KEDIRI', 'PENS'],\n",
       " ['1/10/1997', 'YENI PUSPITASARI', '22 TAHUN', 'JOMBANG', 'UNAIR '],\n",
       " ['18/03/1998', 'AULIA CS', '21 TAHUN', 'SURABYA', 'UINSA'],\n",
       " ['13/06/2000', 'ARIAN', '19 TAHUN', 'BOGOR', 'PURWADHIKA']]"
      ]
     },
     "execution_count": 9,
     "metadata": {},
     "output_type": "execute_result"
    }
   ],
   "source": [
    "data = open('data.csv')\n",
    "from csv import reader\n",
    "read_file = reader(data)\n",
    "app_data = list(read_file)\n",
    "app_data[1:]"
   ]
  },
  {
   "cell_type": "code",
   "execution_count": 10,
   "metadata": {},
   "outputs": [
    {
     "data": {
      "text/plain": [
       "['TTL', 'NAMA', 'USIA', 'KOTA', 'ALMAMATER']"
      ]
     },
     "execution_count": 10,
     "metadata": {},
     "output_type": "execute_result"
    }
   ],
   "source": [
    "head = app_data[0]\n",
    "head"
   ]
  },
  {
   "cell_type": "code",
   "execution_count": 11,
   "metadata": {},
   "outputs": [
    {
     "data": {
      "text/html": [
       "<div>\n",
       "<style scoped>\n",
       "    .dataframe tbody tr th:only-of-type {\n",
       "        vertical-align: middle;\n",
       "    }\n",
       "\n",
       "    .dataframe tbody tr th {\n",
       "        vertical-align: top;\n",
       "    }\n",
       "\n",
       "    .dataframe thead th {\n",
       "        text-align: right;\n",
       "    }\n",
       "</style>\n",
       "<table border=\"1\" class=\"dataframe\">\n",
       "  <thead>\n",
       "    <tr style=\"text-align: right;\">\n",
       "      <th></th>\n",
       "      <th>TTL</th>\n",
       "      <th>NAMA</th>\n",
       "      <th>USIA</th>\n",
       "      <th>KOTA</th>\n",
       "      <th>ALMAMATER</th>\n",
       "    </tr>\n",
       "  </thead>\n",
       "  <tbody>\n",
       "    <tr>\n",
       "      <td>0</td>\n",
       "      <td>12/05/1996</td>\n",
       "      <td>ILHAM PRASETYO</td>\n",
       "      <td>23 TAHUN</td>\n",
       "      <td>KEDIRI</td>\n",
       "      <td>PENS</td>\n",
       "    </tr>\n",
       "    <tr>\n",
       "      <td>1</td>\n",
       "      <td>1/10/1997</td>\n",
       "      <td>YENI PUSPITASARI</td>\n",
       "      <td>22 TAHUN</td>\n",
       "      <td>JOMBANG</td>\n",
       "      <td>UNAIR</td>\n",
       "    </tr>\n",
       "    <tr>\n",
       "      <td>2</td>\n",
       "      <td>18/03/1998</td>\n",
       "      <td>AULIA CS</td>\n",
       "      <td>21 TAHUN</td>\n",
       "      <td>SURABYA</td>\n",
       "      <td>UINSA</td>\n",
       "    </tr>\n",
       "    <tr>\n",
       "      <td>3</td>\n",
       "      <td>13/06/2000</td>\n",
       "      <td>ARIAN</td>\n",
       "      <td>19 TAHUN</td>\n",
       "      <td>BOGOR</td>\n",
       "      <td>PURWADHIKA</td>\n",
       "    </tr>\n",
       "  </tbody>\n",
       "</table>\n",
       "</div>"
      ],
      "text/plain": [
       "          TTL              NAMA      USIA     KOTA   ALMAMATER\n",
       "0  12/05/1996    ILHAM PRASETYO  23 TAHUN   KEDIRI        PENS\n",
       "1   1/10/1997  YENI PUSPITASARI  22 TAHUN  JOMBANG      UNAIR \n",
       "2  18/03/1998          AULIA CS  21 TAHUN  SURABYA       UINSA\n",
       "3  13/06/2000             ARIAN  19 TAHUN    BOGOR  PURWADHIKA"
      ]
     },
     "execution_count": 11,
     "metadata": {},
     "output_type": "execute_result"
    }
   ],
   "source": [
    "dfData = pd.DataFrame(app_data[1:], columns=head)\n",
    "dfData"
   ]
  },
  {
   "cell_type": "code",
   "execution_count": null,
   "metadata": {},
   "outputs": [],
   "source": []
  }
 ],
 "metadata": {
  "kernelspec": {
   "display_name": "Python 3",
   "language": "python",
   "name": "python3"
  },
  "language_info": {
   "codemirror_mode": {
    "name": "ipython",
    "version": 3
   },
   "file_extension": ".py",
   "mimetype": "text/x-python",
   "name": "python",
   "nbconvert_exporter": "python",
   "pygments_lexer": "ipython3",
   "version": "3.7.4"
  }
 },
 "nbformat": 4,
 "nbformat_minor": 4
}
