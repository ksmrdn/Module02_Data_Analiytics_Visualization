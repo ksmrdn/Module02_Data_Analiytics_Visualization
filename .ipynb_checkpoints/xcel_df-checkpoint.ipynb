{
 "cells": [
  {
   "cell_type": "code",
   "execution_count": 3,
   "metadata": {},
   "outputs": [],
   "source": [
    "import xlrd\n",
    "import pandas as pd"
   ]
  },
  {
   "cell_type": "code",
   "execution_count": 4,
   "metadata": {},
   "outputs": [
    {
     "name": "stdout",
     "output_type": "stream",
     "text": [
      "[['ARTIST', 'LAGU', 'TAHUN'], ['Naff', 'Kenanglah Aku', 2017.0], ['Letto', 'Sebelum Cahaya', 2004.0], ['Melly Goeslow', 'Mungkin', 2004.0], ['Ari Lasso', 'Hampa', 2000.0], ['Utopia', 'Hujan', 2002.0], ['Element', 'Cinta Tak Bersyarat', 2004.0], ['Letto', 'Ruang Rindu', 2003.0], ['NineBall', 'Hingga Akhir Waktu', 2006.0], ['Ebiet G Ade', 'Ayah', 1990.0], ['Gleen Fredly', 'Kasih Putih', 2006.0], ['Sandy Sandoro', 'Malam Biru', 2012.0], ['Kangen Band', 'Bintang 14 Hari', 2008.0]]\n"
     ]
    }
   ],
   "source": [
    "file = xlrd.open_workbook('listLagu.xlsx')\n",
    "sheet = file.sheet_by_index(0)\n",
    "list1 = []\n",
    "for row in range(sheet.nrows):\n",
    "    out = sheet.row_values(row)\n",
    "    list1.append(out)\n",
    "print(list1)"
   ]
  },
  {
   "cell_type": "code",
   "execution_count": 5,
   "metadata": {},
   "outputs": [
    {
     "data": {
      "text/html": [
       "<div>\n",
       "<style scoped>\n",
       "    .dataframe tbody tr th:only-of-type {\n",
       "        vertical-align: middle;\n",
       "    }\n",
       "\n",
       "    .dataframe tbody tr th {\n",
       "        vertical-align: top;\n",
       "    }\n",
       "\n",
       "    .dataframe thead th {\n",
       "        text-align: right;\n",
       "    }\n",
       "</style>\n",
       "<table border=\"1\" class=\"dataframe\">\n",
       "  <thead>\n",
       "    <tr style=\"text-align: right;\">\n",
       "      <th></th>\n",
       "      <th>ARTIST</th>\n",
       "      <th>LAGU</th>\n",
       "      <th>TAHUN</th>\n",
       "    </tr>\n",
       "  </thead>\n",
       "  <tbody>\n",
       "    <tr>\n",
       "      <td>0</td>\n",
       "      <td>Naff</td>\n",
       "      <td>Kenanglah Aku</td>\n",
       "      <td>2017.0</td>\n",
       "    </tr>\n",
       "    <tr>\n",
       "      <td>1</td>\n",
       "      <td>Letto</td>\n",
       "      <td>Sebelum Cahaya</td>\n",
       "      <td>2004.0</td>\n",
       "    </tr>\n",
       "    <tr>\n",
       "      <td>2</td>\n",
       "      <td>Melly Goeslow</td>\n",
       "      <td>Mungkin</td>\n",
       "      <td>2004.0</td>\n",
       "    </tr>\n",
       "    <tr>\n",
       "      <td>3</td>\n",
       "      <td>Ari Lasso</td>\n",
       "      <td>Hampa</td>\n",
       "      <td>2000.0</td>\n",
       "    </tr>\n",
       "    <tr>\n",
       "      <td>4</td>\n",
       "      <td>Utopia</td>\n",
       "      <td>Hujan</td>\n",
       "      <td>2002.0</td>\n",
       "    </tr>\n",
       "    <tr>\n",
       "      <td>5</td>\n",
       "      <td>Element</td>\n",
       "      <td>Cinta Tak Bersyarat</td>\n",
       "      <td>2004.0</td>\n",
       "    </tr>\n",
       "    <tr>\n",
       "      <td>6</td>\n",
       "      <td>Letto</td>\n",
       "      <td>Ruang Rindu</td>\n",
       "      <td>2003.0</td>\n",
       "    </tr>\n",
       "    <tr>\n",
       "      <td>7</td>\n",
       "      <td>NineBall</td>\n",
       "      <td>Hingga Akhir Waktu</td>\n",
       "      <td>2006.0</td>\n",
       "    </tr>\n",
       "    <tr>\n",
       "      <td>8</td>\n",
       "      <td>Ebiet G Ade</td>\n",
       "      <td>Ayah</td>\n",
       "      <td>1990.0</td>\n",
       "    </tr>\n",
       "    <tr>\n",
       "      <td>9</td>\n",
       "      <td>Gleen Fredly</td>\n",
       "      <td>Kasih Putih</td>\n",
       "      <td>2006.0</td>\n",
       "    </tr>\n",
       "    <tr>\n",
       "      <td>10</td>\n",
       "      <td>Sandy Sandoro</td>\n",
       "      <td>Malam Biru</td>\n",
       "      <td>2012.0</td>\n",
       "    </tr>\n",
       "    <tr>\n",
       "      <td>11</td>\n",
       "      <td>Kangen Band</td>\n",
       "      <td>Bintang 14 Hari</td>\n",
       "      <td>2008.0</td>\n",
       "    </tr>\n",
       "  </tbody>\n",
       "</table>\n",
       "</div>"
      ],
      "text/plain": [
       "           ARTIST                 LAGU   TAHUN\n",
       "0            Naff        Kenanglah Aku  2017.0\n",
       "1           Letto       Sebelum Cahaya  2004.0\n",
       "2   Melly Goeslow              Mungkin  2004.0\n",
       "3       Ari Lasso                Hampa  2000.0\n",
       "4          Utopia                Hujan  2002.0\n",
       "5         Element  Cinta Tak Bersyarat  2004.0\n",
       "6           Letto          Ruang Rindu  2003.0\n",
       "7        NineBall   Hingga Akhir Waktu  2006.0\n",
       "8     Ebiet G Ade                 Ayah  1990.0\n",
       "9    Gleen Fredly          Kasih Putih  2006.0\n",
       "10  Sandy Sandoro           Malam Biru  2012.0\n",
       "11    Kangen Band      Bintang 14 Hari  2008.0"
      ]
     },
     "execution_count": 5,
     "metadata": {},
     "output_type": "execute_result"
    }
   ],
   "source": [
    "dfData = pd.DataFrame(list1[1:], columns=(list1[0]))\n",
    "dfData"
   ]
  },
  {
   "cell_type": "code",
   "execution_count": null,
   "metadata": {},
   "outputs": [],
   "source": []
  }
 ],
 "metadata": {
  "kernelspec": {
   "display_name": "Python 3",
   "language": "python",
   "name": "python3"
  },
  "language_info": {
   "codemirror_mode": {
    "name": "ipython",
    "version": 3
   },
   "file_extension": ".py",
   "mimetype": "text/x-python",
   "name": "python",
   "nbconvert_exporter": "python",
   "pygments_lexer": "ipython3",
   "version": "3.7.4"
  }
 },
 "nbformat": 4,
 "nbformat_minor": 4
}
