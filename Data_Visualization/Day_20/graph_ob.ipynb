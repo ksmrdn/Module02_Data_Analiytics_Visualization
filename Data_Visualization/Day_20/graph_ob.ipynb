{
 "cells": [
  {
   "cell_type": "code",
   "execution_count": 15,
   "metadata": {},
   "outputs": [],
   "source": [
    "import plotly.graph_objects as go\n",
    "import numpy as np"
   ]
  },
  {
   "cell_type": "code",
   "execution_count": 12,
   "metadata": {},
   "outputs": [],
   "source": [
    "fig = go.Figure(\n",
    "        data=[go.Bar(y=[2,1,3])],\n",
    "        layout_title_text = \"A figure displayed with fig.show()\")\n",
    "fig.show()"
   ]
  },
  {
   "cell_type": "code",
   "execution_count": null,
   "metadata": {},
   "outputs": [],
   "source": [
    "# x = np.array([1,2,3,4,5,6,7,8,9])\n",
    "# y = np.array([3,1,7,5,9,6,6,1,4])\n",
    "# fig = go.Figure(\n",
    "#         data=go.Bar(x=x,y=y, text=y, textposition='auto',name='Data Y', marker_color=[\"red\",\"orange\",\"yellow\",\"blue\",\"green\",\"red\",\"orange\",\"yellow\",\"blue\"],width=1),\n",
    "#         layout_title_text = \"Test Bar Graph\")\n",
    "# fig.show()"
   ]
  },
  {
   "cell_type": "code",
   "execution_count": null,
   "metadata": {},
   "outputs": [],
   "source": [
    "fig.write_html('plotlyTes.html', auto_open=True)"
   ]
  },
  {
   "cell_type": "code",
   "execution_count": null,
   "metadata": {},
   "outputs": [],
   "source": [
    "# x = np.array([1,2,3,4,5,6,7,8,9])\n",
    "# y = np.array([3,1,7,5,9,6,6,1,4])\n",
    "# fig = go.Figure(\n",
    "#         data=go.Scatter(x=x,y=y, mode='lines+markers', line_color=\"green\",marker_color=[\"red\",\"orange\",\"yellow\",\"blue\",\"green\",\"red\",\"orange\",\"yellow\",\"blue\"],\n",
    "#         marker=dict(size=[12,12,12,12,12,12,12,12,12,12])),\n",
    "#         layout_title_text = \"Test Bar Graph\")\n",
    "# fig.show()"
   ]
  },
  {
   "cell_type": "code",
   "execution_count": null,
   "metadata": {},
   "outputs": [],
   "source": [
    "# a = ['Kebab','Lontong Balap','Rawon']\n",
    "# b = np.array([25,12,13])\n",
    "# fig = go.Figure(\n",
    "#     data = go.Pie(\n",
    "#         labels = a, values = b\n",
    "#     ),\n",
    "#     layout_title_text = 'Favorite Menu'\n",
    "# )\n",
    "# fig.show()"
   ]
  },
  {
   "cell_type": "code",
   "execution_count": null,
   "metadata": {},
   "outputs": [],
   "source": [
    "# import plotly.io as pio\n",
    "# import numpy as np\n",
    "# x = np.array([1,2,3,4,5])\n",
    "# y = np.array([5,4,3,2,1])\n",
    "# fig = {\"data\":[{\"type\":\"scatter\",\"x\": x, \"y\": y}]}\n",
    "# pio.show(fig)"
   ]
  }
 ],
 "metadata": {
  "kernelspec": {
   "display_name": "Python 3",
   "language": "python",
   "name": "python3"
  },
  "language_info": {
   "codemirror_mode": {
    "name": "ipython",
    "version": 3
   },
   "file_extension": ".py",
   "mimetype": "text/x-python",
   "name": "python",
   "nbconvert_exporter": "python",
   "pygments_lexer": "ipython3",
   "version": "3.7.4"
  }
 },
 "nbformat": 4,
 "nbformat_minor": 4
}
