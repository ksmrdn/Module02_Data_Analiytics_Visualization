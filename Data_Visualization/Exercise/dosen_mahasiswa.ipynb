{
 "cells": [
  {
   "cell_type": "code",
   "execution_count": 19,
   "metadata": {},
   "outputs": [],
   "source": [
    "import pymongo as mo\n",
    "import pandas as pd\n",
    "import matplotlib.pyplot as plt"
   ]
  },
  {
   "cell_type": "code",
   "execution_count": 23,
   "metadata": {},
   "outputs": [],
   "source": [
    "#connect to server\n",
    "csr = mo.MongoClient('localhost',27017)\n",
    "dbs = csr.list_database_names()\n",
    "#initiate database Kampus\n",
    "db = csr['Kampus'] \n",
    "#initiate collection Dosen\n",
    "col_dosen = db['Dosen']\n",
    "#initiate collection Mahasiswa\n",
    "col_mhs = db['Mahasiswa']\n",
    "# dbs"
   ]
  },
  {
   "cell_type": "code",
   "execution_count": 29,
   "metadata": {},
   "outputs": [
    {
     "data": {
      "text/plain": [
       "_id        object\n",
       "nama       object\n",
       "usia      float64\n",
       "asal       object\n",
       "bidang     object\n",
       "titel      object\n",
       "status     object\n",
       "nip       float64\n",
       "matkul     object\n",
       "dtype: object"
      ]
     },
     "execution_count": 29,
     "metadata": {},
     "output_type": "execute_result"
    }
   ],
   "source": [
    "dosen = pd.DataFrame(list(col_dosen.find()))\n",
    "dosen.dtypes"
   ]
  },
  {
   "cell_type": "code",
   "execution_count": 25,
   "metadata": {},
   "outputs": [
    {
     "data": {
      "text/html": [
       "<div>\n",
       "<style scoped>\n",
       "    .dataframe tbody tr th:only-of-type {\n",
       "        vertical-align: middle;\n",
       "    }\n",
       "\n",
       "    .dataframe tbody tr th {\n",
       "        vertical-align: top;\n",
       "    }\n",
       "\n",
       "    .dataframe thead th {\n",
       "        text-align: right;\n",
       "    }\n",
       "</style>\n",
       "<table border=\"1\" class=\"dataframe\">\n",
       "  <thead>\n",
       "    <tr style=\"text-align: right;\">\n",
       "      <th></th>\n",
       "      <th>_id</th>\n",
       "      <th>nama</th>\n",
       "      <th>usia</th>\n",
       "      <th>asal</th>\n",
       "      <th>prodi</th>\n",
       "      <th>angkatan</th>\n",
       "      <th>nim</th>\n",
       "    </tr>\n",
       "  </thead>\n",
       "  <tbody>\n",
       "    <tr>\n",
       "      <td>0</td>\n",
       "      <td>5df1df4873a5ec8ab0d295ff</td>\n",
       "      <td>Faza</td>\n",
       "      <td>19.0</td>\n",
       "      <td>Aceh</td>\n",
       "      <td>Fisika</td>\n",
       "      <td>2017.0</td>\n",
       "      <td>123.0</td>\n",
       "    </tr>\n",
       "    <tr>\n",
       "      <td>1</td>\n",
       "      <td>5df1df7f73a5ec8ab0d29600</td>\n",
       "      <td>Gilang</td>\n",
       "      <td>20.0</td>\n",
       "      <td>Semarang</td>\n",
       "      <td>Fisika</td>\n",
       "      <td>2017.0</td>\n",
       "      <td>456.0</td>\n",
       "    </tr>\n",
       "    <tr>\n",
       "      <td>2</td>\n",
       "      <td>5df1dfc373a5ec8ab0d29601</td>\n",
       "      <td>Hanafi</td>\n",
       "      <td>19.0</td>\n",
       "      <td>Makassar</td>\n",
       "      <td>Fisika</td>\n",
       "      <td>2017.0</td>\n",
       "      <td>789.0</td>\n",
       "    </tr>\n",
       "  </tbody>\n",
       "</table>\n",
       "</div>"
      ],
      "text/plain": [
       "                        _id    nama  usia      asal   prodi  angkatan    nim\n",
       "0  5df1df4873a5ec8ab0d295ff    Faza  19.0      Aceh  Fisika    2017.0  123.0\n",
       "1  5df1df7f73a5ec8ab0d29600  Gilang  20.0  Semarang  Fisika    2017.0  456.0\n",
       "2  5df1dfc373a5ec8ab0d29601  Hanafi  19.0  Makassar  Fisika    2017.0  789.0"
      ]
     },
     "execution_count": 25,
     "metadata": {},
     "output_type": "execute_result"
    }
   ],
   "source": [
    "mahasiswa = pd.DataFrame(list(col_mhs.find()))\n",
    "mahasiswa"
   ]
  },
  {
   "cell_type": "code",
   "execution_count": 28,
   "metadata": {},
   "outputs": [
    {
     "data": {
      "image/png": "[encoded data removed]",
      "text/plain": [
       "<Figure size 432x288 with 1 Axes>"
      ]
     },
     "metadata": {
      "needs_background": "light"
     },
     "output_type": "display_data"
    }
   ],
   "source": [
    "#Bar plot\n",
    "plt.figure('Kampus')\n",
    "plt.bar(dosen['nama'],dosen['usia'])\n",
    "plt.bar(mahasiswa['nama'],mahasiswa['usia'])\n",
    "plt.title('Usia Warga Kampus')\n",
    "plt.legend(['Dosen','Mahasiswa'])\n",
    "plt.grid('True')\n",
    "plt.show()"
   ]
  },
  {
   "cell_type": "code",
   "execution_count": null,
   "metadata": {},
   "outputs": [],
   "source": []
  }
 ],
 "metadata": {
  "kernelspec": {
   "display_name": "Python 3",
   "language": "python",
   "name": "python3"
  },
  "language_info": {
   "codemirror_mode": {
    "name": "ipython",
    "version": 3
   },
   "file_extension": ".py",
   "mimetype": "text/x-python",
   "name": "python",
   "nbconvert_exporter": "python",
   "pygments_lexer": "ipython3",
   "version": "3.7.4"
  }
 },
 "nbformat": 4,
 "nbformat_minor": 4
}
