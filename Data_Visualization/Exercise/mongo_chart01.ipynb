{
 "cells": [
  {
   "cell_type": "code",
   "execution_count": 20,
   "metadata": {},
   "outputs": [],
   "source": [
    "import pymongo as mg\n",
    "import pandas as pd\n",
    "import matplotlib.pyplot as plt"
   ]
  },
  {
   "cell_type": "code",
   "execution_count": 21,
   "metadata": {},
   "outputs": [
    {
     "data": {
      "text/plain": [
       "['Kampus',\n",
       " 'admin',\n",
       " 'config',\n",
       " 'jule',\n",
       " 'local',\n",
       " 'pymongodb',\n",
       " 'resto',\n",
       " 'tokoonline']"
      ]
     },
     "execution_count": 21,
     "metadata": {},
     "output_type": "execute_result"
    }
   ],
   "source": [
    "dburl = 'mongodb://localhost:27017'\n",
    "mymg = mg.MongoClient(dburl)\n",
    "\n",
    "dbs = mymg.list_database_names()\n",
    "dbs"
   ]
  },
  {
   "cell_type": "code",
   "execution_count": 22,
   "metadata": {},
   "outputs": [],
   "source": [
    "mydb = mymg['resto']\n",
    "mycol = mydb['resto']\n",
    "alldata = list(mycol.find())\n",
    "# alldata"
   ]
  },
  {
   "cell_type": "code",
   "execution_count": 23,
   "metadata": {},
   "outputs": [
    {
     "data": {
      "text/html": [
       "<div>\n",
       "<style scoped>\n",
       "    .dataframe tbody tr th:only-of-type {\n",
       "        vertical-align: middle;\n",
       "    }\n",
       "\n",
       "    .dataframe tbody tr th {\n",
       "        vertical-align: top;\n",
       "    }\n",
       "\n",
       "    .dataframe thead th {\n",
       "        text-align: right;\n",
       "    }\n",
       "</style>\n",
       "<table border=\"1\" class=\"dataframe\">\n",
       "  <thead>\n",
       "    <tr style=\"text-align: right;\">\n",
       "      <th></th>\n",
       "      <th>_id</th>\n",
       "      <th>address</th>\n",
       "      <th>borough</th>\n",
       "      <th>cuisine</th>\n",
       "      <th>grades</th>\n",
       "      <th>name</th>\n",
       "      <th>restaurant_id</th>\n",
       "    </tr>\n",
       "  </thead>\n",
       "  <tbody>\n",
       "    <tr>\n",
       "      <td>0</td>\n",
       "      <td>5ddb65058f15f6246b34e874</td>\n",
       "      <td>{'building': '7715', 'coord': [-73.9973325, 40...</td>\n",
       "      <td>Brooklyn</td>\n",
       "      <td>American</td>\n",
       "      <td>[{'date': 2014-04-16 00:00:00, 'grade': 'A', '...</td>\n",
       "      <td>C &amp; C Catering Service</td>\n",
       "      <td>40357437</td>\n",
       "    </tr>\n",
       "    <tr>\n",
       "      <td>1</td>\n",
       "      <td>5ddb65058f15f6246b34e875</td>\n",
       "      <td>{'building': '1269', 'coord': [-73.871194, 40....</td>\n",
       "      <td>Brooklyn</td>\n",
       "      <td>Chinese</td>\n",
       "      <td>[{'date': 2014-09-16 00:00:00, 'grade': 'B', '...</td>\n",
       "      <td>May May Kitchen</td>\n",
       "      <td>40358429</td>\n",
       "    </tr>\n",
       "    <tr>\n",
       "      <td>2</td>\n",
       "      <td>5ddb65058f15f6246b34e876</td>\n",
       "      <td>{'building': '1', 'coord': [-73.96926909999999...</td>\n",
       "      <td>Manhattan</td>\n",
       "      <td>American</td>\n",
       "      <td>[{'date': 2014-05-07 00:00:00, 'grade': 'A', '...</td>\n",
       "      <td>1 East 66Th Street Kitchen</td>\n",
       "      <td>40359480</td>\n",
       "    </tr>\n",
       "    <tr>\n",
       "      <td>3</td>\n",
       "      <td>5ddb65058f15f6246b34e877</td>\n",
       "      <td>{'building': '705', 'coord': [-73.9653967, 40....</td>\n",
       "      <td>Brooklyn</td>\n",
       "      <td>Jewish/Kosher</td>\n",
       "      <td>[{'date': 2014-11-10 00:00:00, 'grade': 'A', '...</td>\n",
       "      <td>Seuda Foods</td>\n",
       "      <td>40360045</td>\n",
       "    </tr>\n",
       "    <tr>\n",
       "      <td>4</td>\n",
       "      <td>5ddb65058f15f6246b34e878</td>\n",
       "      <td>{'building': '203', 'coord': [-73.978220400000...</td>\n",
       "      <td>Brooklyn</td>\n",
       "      <td>Ice Cream, Gelato, Yogurt, Ices</td>\n",
       "      <td>[{'date': 2014-02-10 00:00:00, 'grade': 'A', '...</td>\n",
       "      <td>Carvel Ice Cream</td>\n",
       "      <td>40360076</td>\n",
       "    </tr>\n",
       "    <tr>\n",
       "      <td>...</td>\n",
       "      <td>...</td>\n",
       "      <td>...</td>\n",
       "      <td>...</td>\n",
       "      <td>...</td>\n",
       "      <td>...</td>\n",
       "      <td>...</td>\n",
       "      <td>...</td>\n",
       "    </tr>\n",
       "    <tr>\n",
       "      <td>3767</td>\n",
       "      <td>5ddb65058f15f6246b34f72b</td>\n",
       "      <td>{'building': '1249', 'coord': [-73.9584625, 40...</td>\n",
       "      <td>Brooklyn</td>\n",
       "      <td>Spanish</td>\n",
       "      <td>[{'date': 2014-09-11 00:00:00, 'grade': 'A', '...</td>\n",
       "      <td>La Villita Restaurant</td>\n",
       "      <td>40899209</td>\n",
       "    </tr>\n",
       "    <tr>\n",
       "      <td>3768</td>\n",
       "      <td>5ddb65058f15f6246b34f72c</td>\n",
       "      <td>{'building': '145', 'coord': [-73.986544, 40.7...</td>\n",
       "      <td>Manhattan</td>\n",
       "      <td>Café/Coffee/Tea</td>\n",
       "      <td>[{'date': 2014-09-22 00:00:00, 'grade': 'A', '...</td>\n",
       "      <td>Starbucks Coffee</td>\n",
       "      <td>40899767</td>\n",
       "    </tr>\n",
       "    <tr>\n",
       "      <td>3769</td>\n",
       "      <td>5ddb65058f15f6246b34f72d</td>\n",
       "      <td>{'building': '1412', 'coord': [-73.9866522, 40...</td>\n",
       "      <td>Manhattan</td>\n",
       "      <td>Sandwiches/Salads/Mixed Buffet</td>\n",
       "      <td>[{'date': 2014-04-16 00:00:00, 'grade': 'A', '...</td>\n",
       "      <td>Europa Cafe</td>\n",
       "      <td>40900039</td>\n",
       "    </tr>\n",
       "    <tr>\n",
       "      <td>3770</td>\n",
       "      <td>5ddb65058f15f6246b34f72e</td>\n",
       "      <td>{'building': '8405', 'coord': [-74.02521709999...</td>\n",
       "      <td>Brooklyn</td>\n",
       "      <td>Chinese</td>\n",
       "      <td>[{'date': 2014-02-25 00:00:00, 'grade': 'A', '...</td>\n",
       "      <td>Chopstix Restaurant</td>\n",
       "      <td>40900694</td>\n",
       "    </tr>\n",
       "    <tr>\n",
       "      <td>3771</td>\n",
       "      <td>5ddb65058f15f6246b34f72f</td>\n",
       "      <td>{'building': '451', 'coord': [-73.9462238, 40....</td>\n",
       "      <td>Brooklyn</td>\n",
       "      <td>Café/Coffee/Tea</td>\n",
       "      <td>[{'date': 2014-04-14 00:00:00, 'grade': 'A', '...</td>\n",
       "      <td>Andy'S Cafeteria</td>\n",
       "      <td>40899816</td>\n",
       "    </tr>\n",
       "  </tbody>\n",
       "</table>\n",
       "<p>3772 rows × 7 columns</p>\n",
       "</div>"
      ],
      "text/plain": [
       "                           _id  \\\n",
       "0     5ddb65058f15f6246b34e874   \n",
       "1     5ddb65058f15f6246b34e875   \n",
       "2     5ddb65058f15f6246b34e876   \n",
       "3     5ddb65058f15f6246b34e877   \n",
       "4     5ddb65058f15f6246b34e878   \n",
       "...                        ...   \n",
       "3767  5ddb65058f15f6246b34f72b   \n",
       "3768  5ddb65058f15f6246b34f72c   \n",
       "3769  5ddb65058f15f6246b34f72d   \n",
       "3770  5ddb65058f15f6246b34f72e   \n",
       "3771  5ddb65058f15f6246b34f72f   \n",
       "\n",
       "                                                address    borough  \\\n",
       "0     {'building': '7715', 'coord': [-73.9973325, 40...   Brooklyn   \n",
       "1     {'building': '1269', 'coord': [-73.871194, 40....   Brooklyn   \n",
       "2     {'building': '1', 'coord': [-73.96926909999999...  Manhattan   \n",
       "3     {'building': '705', 'coord': [-73.9653967, 40....   Brooklyn   \n",
       "4     {'building': '203', 'coord': [-73.978220400000...   Brooklyn   \n",
       "...                                                 ...        ...   \n",
       "3767  {'building': '1249', 'coord': [-73.9584625, 40...   Brooklyn   \n",
       "3768  {'building': '145', 'coord': [-73.986544, 40.7...  Manhattan   \n",
       "3769  {'building': '1412', 'coord': [-73.9866522, 40...  Manhattan   \n",
       "3770  {'building': '8405', 'coord': [-74.02521709999...   Brooklyn   \n",
       "3771  {'building': '451', 'coord': [-73.9462238, 40....   Brooklyn   \n",
       "\n",
       "                              cuisine  \\\n",
       "0                           American    \n",
       "1                             Chinese   \n",
       "2                           American    \n",
       "3                       Jewish/Kosher   \n",
       "4     Ice Cream, Gelato, Yogurt, Ices   \n",
       "...                               ...   \n",
       "3767                          Spanish   \n",
       "3768                  Café/Coffee/Tea   \n",
       "3769   Sandwiches/Salads/Mixed Buffet   \n",
       "3770                          Chinese   \n",
       "3771                  Café/Coffee/Tea   \n",
       "\n",
       "                                                 grades  \\\n",
       "0     [{'date': 2014-04-16 00:00:00, 'grade': 'A', '...   \n",
       "1     [{'date': 2014-09-16 00:00:00, 'grade': 'B', '...   \n",
       "2     [{'date': 2014-05-07 00:00:00, 'grade': 'A', '...   \n",
       "3     [{'date': 2014-11-10 00:00:00, 'grade': 'A', '...   \n",
       "4     [{'date': 2014-02-10 00:00:00, 'grade': 'A', '...   \n",
       "...                                                 ...   \n",
       "3767  [{'date': 2014-09-11 00:00:00, 'grade': 'A', '...   \n",
       "3768  [{'date': 2014-09-22 00:00:00, 'grade': 'A', '...   \n",
       "3769  [{'date': 2014-04-16 00:00:00, 'grade': 'A', '...   \n",
       "3770  [{'date': 2014-02-25 00:00:00, 'grade': 'A', '...   \n",
       "3771  [{'date': 2014-04-14 00:00:00, 'grade': 'A', '...   \n",
       "\n",
       "                            name restaurant_id  \n",
       "0         C & C Catering Service      40357437  \n",
       "1                May May Kitchen      40358429  \n",
       "2     1 East 66Th Street Kitchen      40359480  \n",
       "3                    Seuda Foods      40360045  \n",
       "4               Carvel Ice Cream      40360076  \n",
       "...                          ...           ...  \n",
       "3767       La Villita Restaurant      40899209  \n",
       "3768            Starbucks Coffee      40899767  \n",
       "3769                 Europa Cafe      40900039  \n",
       "3770         Chopstix Restaurant      40900694  \n",
       "3771            Andy'S Cafeteria      40899816  \n",
       "\n",
       "[3772 rows x 7 columns]"
      ]
     },
     "execution_count": 23,
     "metadata": {},
     "output_type": "execute_result"
    }
   ],
   "source": [
    "dfResto = pd.DataFrame(alldata)\n",
    "dfResto"
   ]
  },
  {
   "cell_type": "code",
   "execution_count": 24,
   "metadata": {},
   "outputs": [
    {
     "data": {
      "text/plain": [
       "<bound method Series.unique of 0                             American \n",
       "1                               Chinese\n",
       "2                             American \n",
       "3                         Jewish/Kosher\n",
       "4       Ice Cream, Gelato, Yogurt, Ices\n",
       "                     ...               \n",
       "3767                            Spanish\n",
       "3768                    Café/Coffee/Tea\n",
       "3769     Sandwiches/Salads/Mixed Buffet\n",
       "3770                            Chinese\n",
       "3771                    Café/Coffee/Tea\n",
       "Name: cuisine, Length: 3772, dtype: object>"
      ]
     },
     "execution_count": 24,
     "metadata": {},
     "output_type": "execute_result"
    }
   ],
   "source": [
    "dfResto['cuisine'].unique"
   ]
  },
  {
   "cell_type": "code",
   "execution_count": 25,
   "metadata": {},
   "outputs": [
    {
     "data": {
      "text/plain": [
       "Italian                                                             325\n",
       "Pizza                                                               270\n",
       "Café/Coffee/Tea                                                     180\n",
       "Hamburgers                                                          159\n",
       "Bakery                                                              127\n",
       "Chinese                                                             115\n",
       "Latin (Cuban, Dominican, Puerto Rican, South & Central American)    115\n",
       "Pizza/Italian                                                       106\n",
       "Japanese                                                             80\n",
       "Name: cuisine, dtype: int64"
      ]
     },
     "execution_count": 25,
     "metadata": {},
     "output_type": "execute_result"
    }
   ],
   "source": [
    "dfCuisine = dfResto['cuisine'].value_counts()\n",
    "dfCuisine[1:10]"
   ]
  },
  {
   "cell_type": "code",
   "execution_count": 26,
   "metadata": {},
   "outputs": [
    {
     "data": {
      "text/html": [
       "<div>\n",
       "<style scoped>\n",
       "    .dataframe tbody tr th:only-of-type {\n",
       "        vertical-align: middle;\n",
       "    }\n",
       "\n",
       "    .dataframe tbody tr th {\n",
       "        vertical-align: top;\n",
       "    }\n",
       "\n",
       "    .dataframe thead th {\n",
       "        text-align: right;\n",
       "    }\n",
       "</style>\n",
       "<table border=\"1\" class=\"dataframe\">\n",
       "  <thead>\n",
       "    <tr style=\"text-align: right;\">\n",
       "      <th></th>\n",
       "      <th>cuisine</th>\n",
       "    </tr>\n",
       "  </thead>\n",
       "  <tbody>\n",
       "    <tr>\n",
       "      <td>American</td>\n",
       "      <td>1255</td>\n",
       "    </tr>\n",
       "    <tr>\n",
       "      <td>Italian</td>\n",
       "      <td>325</td>\n",
       "    </tr>\n",
       "    <tr>\n",
       "      <td>Pizza</td>\n",
       "      <td>270</td>\n",
       "    </tr>\n",
       "    <tr>\n",
       "      <td>Café/Coffee/Tea</td>\n",
       "      <td>180</td>\n",
       "    </tr>\n",
       "    <tr>\n",
       "      <td>Hamburgers</td>\n",
       "      <td>159</td>\n",
       "    </tr>\n",
       "    <tr>\n",
       "      <td>Bakery</td>\n",
       "      <td>127</td>\n",
       "    </tr>\n",
       "    <tr>\n",
       "      <td>Chinese</td>\n",
       "      <td>115</td>\n",
       "    </tr>\n",
       "    <tr>\n",
       "      <td>Latin (Cuban, Dominican, Puerto Rican, South &amp; Central American)</td>\n",
       "      <td>115</td>\n",
       "    </tr>\n",
       "    <tr>\n",
       "      <td>Pizza/Italian</td>\n",
       "      <td>106</td>\n",
       "    </tr>\n",
       "    <tr>\n",
       "      <td>Japanese</td>\n",
       "      <td>80</td>\n",
       "    </tr>\n",
       "  </tbody>\n",
       "</table>\n",
       "</div>"
      ],
      "text/plain": [
       "                                                    cuisine\n",
       "American                                               1255\n",
       "Italian                                                 325\n",
       "Pizza                                                   270\n",
       "Café/Coffee/Tea                                         180\n",
       "Hamburgers                                              159\n",
       "Bakery                                                  127\n",
       "Chinese                                                 115\n",
       "Latin (Cuban, Dominican, Puerto Rican, South & ...      115\n",
       "Pizza/Italian                                           106\n",
       "Japanese                                                 80"
      ]
     },
     "execution_count": 26,
     "metadata": {},
     "output_type": "execute_result"
    }
   ],
   "source": [
    "dfTop10 = pd.DataFrame(dfCuisine[:10])\n",
    "dfTop10"
   ]
  },
  {
   "cell_type": "code",
   "execution_count": 27,
   "metadata": {},
   "outputs": [
    {
     "data": {
      "text/plain": [
       "American                                                            1255\n",
       "Italian                                                              325\n",
       "Pizza                                                                270\n",
       "Café/Coffee/Tea                                                      180\n",
       "Hamburgers                                                           159\n",
       "Bakery                                                               127\n",
       "Chinese                                                              115\n",
       "Latin (Cuban, Dominican, Puerto Rican, South & Central American)     115\n",
       "Pizza/Italian                                                        106\n",
       "Japanese                                                              80\n",
       "Name: cuisine, dtype: int64"
      ]
     },
     "execution_count": 27,
     "metadata": {},
     "output_type": "execute_result"
    }
   ],
   "source": [
    "dfTop10['cuisine']"
   ]
  },
  {
   "cell_type": "code",
   "execution_count": 49,
   "metadata": {},
   "outputs": [
    {
     "data": {
      "image/png": "[encoded data removed]",
      "text/plain": [
       "<Figure size 1080x576 with 1 Axes>"
      ]
     },
     "metadata": {},
     "output_type": "display_data"
    }
   ],
   "source": [
    "#PIE CHART TOP10\n",
    "labels = (dfTop10.index)\n",
    "percentage = dfTop10['cuisine']\n",
    "explode = (0.05,0,0,0,0,0,0,0,0,0)\n",
    "plt.figure(figsize=(15,8))\n",
    "plt.pie(percentage, labels=labels,explode=explode, autopct='%1.1f%%',shadow=True, startangle=0, radius=2)\n",
    "plt.axis('equal')\n",
    "plt.suptitle('Cuisine Percentage')\n",
    "plt.show()"
   ]
  },
  {
   "cell_type": "code",
   "execution_count": null,
   "metadata": {},
   "outputs": [],
   "source": []
  }
 ],
 "metadata": {
  "kernelspec": {
   "display_name": "Python 3",
   "language": "python",
   "name": "python3"
  },
  "language_info": {
   "codemirror_mode": {
    "name": "ipython",
    "version": 3
   },
   "file_extension": ".py",
   "mimetype": "text/x-python",
   "name": "python",
   "nbconvert_exporter": "python",
   "pygments_lexer": "ipython3",
   "version": "3.7.4"
  }
 },
 "nbformat": 4,
 "nbformat_minor": 4
}
